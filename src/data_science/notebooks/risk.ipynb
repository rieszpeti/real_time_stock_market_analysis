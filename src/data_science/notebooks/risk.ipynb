{
 "cells": [
  {
   "cell_type": "markdown",
   "metadata": {},
   "source": [
    "# Calculate Risk"
   ]
  },
  {
   "cell_type": "markdown",
   "metadata": {},
   "source": [
    "## Volatilitás\n",
    "\n",
    "A volatilitás a pénzügyben azt méri, hogy egy pénzügyi eszköz (pl. részvény, deviza) árfolyama mennyire ingadozik az időben.\n",
    "\n",
    "Egyszerűen megfogalmazva:\n",
    "Ha egy részvény árfolyama sokat változik rövid idő alatt, akkor nagy a volatilitása (kockázatosabb).\n",
    "Ha az árfolyam stabilabb, kisebb a volatilitás (kevésbé kockázatos).\n",
    "Hogyan mérjük a volatilitást?\n",
    "A volatilitást általában a szórás (standard deviation, σ) alapján számítják.\n",
    "Matematikailag ez azt mutatja meg, hogy az eszköz hozamai mennyire térnek el az átlagos hozamtól.\n",
    "\n",
    "Példa:\n",
    "Tegyük fel, hogy egy részvény heti záróárai (Adj Close) így alakultak:\n",
    "\n",
    "Hétfő: 100 Ft\n",
    "Kedd: 105 Ft\n",
    "Szerda: 95 Ft\n",
    "Csütörtök: 110 Ft\n",
    "Péntek: 98 Ft\n",
    "Ha kiszámoljuk a napi hozamokat:\n",
    "\n",
    "**rₜ = (Pₜ / Pₜ₋₁) - 1**\n",
    "\n",
    "ahol:  \n",
    "- *rₜ* a napi hozam,  \n",
    "- *Pₜ* az aktuális napi záróár,  \n",
    "- *Pₜ₋₁* az előző napi záróár.  \n",
    "\n",
    "akkor nagy ingadozásokat látunk, vagyis nagy a volatilitás.\n",
    "\n",
    "Mit jelent a volatilitás a befektetők számára?\n",
    "Magas volatilitás → nagyobb kockázat, de lehetőség nagyobb hozamra.\n",
    "Alacsony volatilitás → stabilabb befektetés, kisebb kockázat.\n",
    "A volatilitás fontos, mert a befektetők nem szeretik a bizonytalanságot, ezért egy nagyon ingadozó részvény általában kockázatosabbnak számít."
   ]
  }
 ],
 "metadata": {
  "language_info": {
   "name": "python"
  }
 },
 "nbformat": 4,
 "nbformat_minor": 2
}
